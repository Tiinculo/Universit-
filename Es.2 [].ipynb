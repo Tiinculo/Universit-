{
 "cells": [
  {
   "cell_type": "code",
   "execution_count": null,
   "metadata": {},
   "outputs": [],
   "source": [
    "print( (3,2)<(1,6,9))\n",
    "print( (3,2)<(3,6,9))\n",
    "print( (3,6)<(3,6,9))\n",
    "print((3,'python')<(3,'programma',9))\n",
    "print((3,2)<(3,'programma',9))"
   ]
  },
  {
   "cell_type": "code",
   "execution_count": null,
   "metadata": {},
   "outputs": [],
   "source": [
    "def bubble_sort( a,key=None ):\n",
    "    n= len(a)\n",
    "\n",
    "    # def iden(a):\n",
    "        \n",
    "\n",
    "    for c in range (n-1):\n",
    "        ordinata=True\n",
    "        for i in range(n-1-c):\n",
    "           if a[i]>a[i+1]:\n",
    "               ordinata=False\n",
    "               a[i], a[i+1] = a[i+1], a[i]\n",
    "        # print(a)       \n",
    "        if ordinata:\n",
    "           return\n",
    "        \n",
    "def numeristringhe( e ): \n",
    "    if type(e)==str:\n",
    "        return(1,e)\n",
    "    else:\n",
    "        return(0,e)\n",
    "\n",
    "def numeristringhe(e):\n",
    "#espressione condizionale\n",
    "    z=(1,e) if type(e) == str else (0,e)\n",
    "    print(z)\n",
    "\n",
    "a = [3.14,'python',2,'programma',12,0,'corso']\n",
    "bubble_sort(a,key=numeristringhe)     \n",
    "print(a) "
   ]
  },
  {
   "cell_type": "code",
   "execution_count": null,
   "metadata": {},
   "outputs": [],
   "source": [
    "a = [3.14,'python',2,'programma',12,0,'corso']\n",
    "b = sorted(a,key=numeristringhe)\n",
    "print(b)\n",
    "a.sort(key=numeristringhe)\n",
    "print(a)\n",
    "\n",
    "#\n"
   ]
  },
  {
   "cell_type": "code",
   "execution_count": null,
   "metadata": {},
   "outputs": [],
   "source": [
    "#a = [3.14,'python',2,'programma',12,0,'corso']\n",
    "#f = lambda e: len(e) if type(e) == str else e   \n",
    "#b = sorted(a,key=f) \n",
    "#print(b) \n",
    "\n",
    "a = [3.14,'python',2,'programma',12,0,'corso']\n",
    "b = sorted(a,key=lambda e: len(e) if type(e) == str else e) \n",
    "print(b)   "
   ]
  },
  {
   "cell_type": "code",
   "execution_count": null,
   "metadata": {},
   "outputs": [],
   "source": [
    "a = [(1,2),(3,0),(1,8)]\n",
    "a.sort(key=lambda e: e[1])\n",
    "print(a)  "
   ]
  },
  {
   "cell_type": "code",
   "execution_count": null,
   "metadata": {},
   "outputs": [],
   "source": [
    "a = [3.14,'python',2,'programma',12,0,'corso']\n",
    "b=a # alias\n",
    "#in questo modo posso modificare a anche da b (perchè non lo copiata)\n",
    "c=a[:] # clone=copia \n",
    "#in questo modo non posso modificare a anche da c (perchè lo copiata)\n"
   ]
  },
  {
   "cell_type": "code",
   "execution_count": null,
   "metadata": {},
   "outputs": [],
   "source": [
    "a=[3,[4,5,6],7,8]\n",
    "b=a[:]\n",
    "\n",
    "b[0] = 10\n",
    "b[1][0] = 9\n",
    "print(a) \n",
    "print(b) \n"
   ]
  },
  {
   "cell_type": "code",
   "execution_count": 21,
   "metadata": {},
   "outputs": [
    {
     "name": "stdout",
     "output_type": "stream",
     "text": [
      "[3.4, 5.7, 'Almqvist', 'ciao', 'come', 'stai', 1, 2, 3, 8]\n"
     ]
    }
   ],
   "source": [
    "#tutorato\n",
    "lista = [1,2,3.4,5.7,'ciao','come','stai',3,8,'Almqvist']\n",
    "\n",
    "# def ke (e):\n",
    "    # if type(e) == str:\n",
    "    #     return (1,e)\n",
    "    # elif type(e) == float :\n",
    "    #     return (0,e)\n",
    "    # return (2,e)\n",
    "\n",
    "#lista.sort(key=ke)\n",
    "#print(lista)\n",
    "\n",
    "\n",
    "x = sorted(lista,key=lambda e: (1,e) if type(e)== str else (0,e) if type (e) == float else (2,e) )\n",
    "print(x)\n"
   ]
  },
  {
   "cell_type": "code",
   "execution_count": null,
   "metadata": {},
   "outputs": [],
   "source": [
    "lista = [1,3,8,2,0]\n",
    "x=lista[:]\n",
    "b=[]\n",
    "for i in lista:\n",
    "    b.append('ciao')\n",
    "\n",
    "\n",
    "print(lista)\n",
    "print(b)\n",
    "\n",
    "# def modifica(lis=[]):\n",
    "#     lis_alias=lis[:]\n",
    "#     for i in range(len(lis_alias)):\n",
    "#     lis_alias=[i]='ciao'    \n",
    "# return lis \n"
   ]
  }
 ],
 "metadata": {
  "kernelspec": {
   "display_name": "Python 3",
   "language": "python",
   "name": "python3"
  },
  "language_info": {
   "codemirror_mode": {
    "name": "ipython",
    "version": 3
   },
   "file_extension": ".py",
   "mimetype": "text/x-python",
   "name": "python",
   "nbconvert_exporter": "python",
   "pygments_lexer": "ipython3",
   "version": "3.12.0"
  }
 },
 "nbformat": 4,
 "nbformat_minor": 2
}
